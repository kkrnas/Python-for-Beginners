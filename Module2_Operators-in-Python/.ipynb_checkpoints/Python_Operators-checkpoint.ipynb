{
 "cells": [
  {
   "cell_type": "markdown",
   "metadata": {
    "colab_type": "text",
    "id": "WMMOR4ZTMN53"
   },
   "source": [
    "# 1. Arithmetic Operator : \n",
    "\n",
    "---\n",
    "\n",
    "\n",
    "Arithmetic operators are used with numeric values to perform common mathematical operations:\n",
    "(https://www.w3schools.com/python/python_operators.asp)"
   ]
  },
  {
   "cell_type": "code",
   "execution_count": null,
   "metadata": {
    "colab": {},
    "colab_type": "code",
    "id": "JUQ4RcazOcMg"
   },
   "outputs": [],
   "source": [
    "# Declare the numeric variable\n",
    "a=9\n",
    "b=3"
   ]
  },
  {
   "cell_type": "code",
   "execution_count": 26,
   "metadata": {
    "colab": {
     "base_uri": "https://localhost:8080/",
     "height": 34
    },
    "colab_type": "code",
    "id": "SvtF1EWML5lQ",
    "outputId": "e33a7175-3924-45b1-c195-01049959b7f9"
   },
   "outputs": [
    {
     "name": "stdout",
     "output_type": "stream",
     "text": [
      "12\n"
     ]
    }
   ],
   "source": [
    "#1. Addition (+)\n",
    "print(a+b)"
   ]
  },
  {
   "cell_type": "code",
   "execution_count": 27,
   "metadata": {
    "colab": {
     "base_uri": "https://localhost:8080/",
     "height": 34
    },
    "colab_type": "code",
    "id": "TUIO-bLCMzm3",
    "outputId": "cdd27e39-2fd5-4b94-ff6a-7a4d9e5b90bc"
   },
   "outputs": [
    {
     "name": "stdout",
     "output_type": "stream",
     "text": [
      "6\n"
     ]
    }
   ],
   "source": [
    "#2. Subtraction (-)\n",
    "print(a-b)"
   ]
  },
  {
   "cell_type": "code",
   "execution_count": 28,
   "metadata": {
    "colab": {
     "base_uri": "https://localhost:8080/",
     "height": 34
    },
    "colab_type": "code",
    "id": "_6yHe4YgNt9a",
    "outputId": "25a99b58-b11b-46b4-c97d-300b79920108"
   },
   "outputs": [
    {
     "name": "stdout",
     "output_type": "stream",
     "text": [
      "27\n"
     ]
    }
   ],
   "source": [
    "#3. Multiplication (*)\n",
    "print(a*b)"
   ]
  },
  {
   "cell_type": "code",
   "execution_count": 29,
   "metadata": {
    "colab": {
     "base_uri": "https://localhost:8080/",
     "height": 34
    },
    "colab_type": "code",
    "id": "UFNZQCGdOAO9",
    "outputId": "95e497f2-3e1f-4efb-a11c-60dd547c7c7f"
   },
   "outputs": [
    {
     "name": "stdout",
     "output_type": "stream",
     "text": [
      "3.0\n"
     ]
    }
   ],
   "source": [
    "#4. Division (/)\n",
    "print(a/b)"
   ]
  },
  {
   "cell_type": "code",
   "execution_count": 30,
   "metadata": {
    "colab": {
     "base_uri": "https://localhost:8080/",
     "height": 34
    },
    "colab_type": "code",
    "id": "2qOuRR0fOJmg",
    "outputId": "c3a07ba0-beb2-4e34-b119-bf72c69f086b"
   },
   "outputs": [
    {
     "name": "stdout",
     "output_type": "stream",
     "text": [
      "0\n"
     ]
    }
   ],
   "source": [
    "#5. Modulus(%)\n",
    "print(a%b)"
   ]
  },
  {
   "cell_type": "code",
   "execution_count": 31,
   "metadata": {
    "colab": {
     "base_uri": "https://localhost:8080/",
     "height": 34
    },
    "colab_type": "code",
    "id": "8zl8bRqeOJv7",
    "outputId": "855ff54d-e578-497a-c854-5786f00697de"
   },
   "outputs": [
    {
     "name": "stdout",
     "output_type": "stream",
     "text": [
      "729\n"
     ]
    }
   ],
   "source": [
    "#6. Exponentiation (**)\n",
    "print(a**b)"
   ]
  },
  {
   "cell_type": "code",
   "execution_count": 32,
   "metadata": {
    "colab": {
     "base_uri": "https://localhost:8080/",
     "height": 34
    },
    "colab_type": "code",
    "id": "bbfph712OJ81",
    "outputId": "f3b3966a-35ad-4ec9-f78e-b0b49df28cbe"
   },
   "outputs": [
    {
     "name": "stdout",
     "output_type": "stream",
     "text": [
      "3\n"
     ]
    }
   ],
   "source": [
    "#7. Floor Division (//)\n",
    "print(a//b)"
   ]
  },
  {
   "cell_type": "markdown",
   "metadata": {
    "colab_type": "text",
    "id": "1Pzf8paDQMC7"
   },
   "source": [
    "# 2. Assignment Operators: \n",
    "\n",
    "---\n",
    "\n",
    "Assignment operators are used to assign values to variables:"
   ]
  },
  {
   "cell_type": "code",
   "execution_count": null,
   "metadata": {
    "colab": {},
    "colab_type": "code",
    "id": "CJM9d5R9QUKE"
   },
   "outputs": [],
   "source": [
    "# Declare variables\n",
    "a=30\n",
    "b=30"
   ]
  },
  {
   "cell_type": "code",
   "execution_count": null,
   "metadata": {
    "colab": {},
    "colab_type": "code",
    "id": "_I1wemMeQaGV"
   },
   "outputs": [],
   "source": [
    "# '=' Operator\n",
    "b = 20"
   ]
  },
  {
   "cell_type": "code",
   "execution_count": 36,
   "metadata": {
    "colab": {
     "base_uri": "https://localhost:8080/",
     "height": 34
    },
    "colab_type": "code",
    "id": "AB6o_ZNRQiUD",
    "outputId": "95a452b7-a052-4010-b234-bf81af0741c0"
   },
   "outputs": [
    {
     "name": "stdout",
     "output_type": "stream",
     "text": [
      "50\n"
     ]
    }
   ],
   "source": [
    "# \"+=\" Operator\n",
    "a+=b\n",
    "print(a)"
   ]
  },
  {
   "cell_type": "code",
   "execution_count": 37,
   "metadata": {
    "colab": {
     "base_uri": "https://localhost:8080/",
     "height": 34
    },
    "colab_type": "code",
    "id": "Kqpjj93EQ2ql",
    "outputId": "f75ddace-cafa-4da7-bd8c-666597897bf4"
   },
   "outputs": [
    {
     "name": "stdout",
     "output_type": "stream",
     "text": [
      "30\n"
     ]
    }
   ],
   "source": [
    "# '-=' Operator\n",
    "a-=b\n",
    "print(a)"
   ]
  },
  {
   "cell_type": "code",
   "execution_count": 38,
   "metadata": {
    "colab": {
     "base_uri": "https://localhost:8080/",
     "height": 34
    },
    "colab_type": "code",
    "id": "U2a3tBqmQ9_U",
    "outputId": "2abd8e15-b09b-4777-a8f0-49f36cc3b62d"
   },
   "outputs": [
    {
     "name": "stdout",
     "output_type": "stream",
     "text": [
      "600\n"
     ]
    }
   ],
   "source": [
    "# '*=' Operator\n",
    "a*=b\n",
    "print(a)"
   ]
  },
  {
   "cell_type": "code",
   "execution_count": 39,
   "metadata": {
    "colab": {
     "base_uri": "https://localhost:8080/",
     "height": 34
    },
    "colab_type": "code",
    "id": "5ShKfsHERGRh",
    "outputId": "919c1488-64c7-4533-b4b5-9819646e5323"
   },
   "outputs": [
    {
     "name": "stdout",
     "output_type": "stream",
     "text": [
      "30.0\n"
     ]
    }
   ],
   "source": [
    "# '/=' Operator\n",
    "a/=b\n",
    "print(a)"
   ]
  },
  {
   "cell_type": "code",
   "execution_count": 40,
   "metadata": {
    "colab": {
     "base_uri": "https://localhost:8080/",
     "height": 34
    },
    "colab_type": "code",
    "id": "zp0yBr7NRL-o",
    "outputId": "05b4203b-8de4-4fa3-8e51-406e12ddc8e5"
   },
   "outputs": [
    {
     "name": "stdout",
     "output_type": "stream",
     "text": [
      "10.0\n"
     ]
    }
   ],
   "source": [
    "# '%=' Operator\n",
    "a%=b\n",
    "print(a)"
   ]
  },
  {
   "cell_type": "code",
   "execution_count": 41,
   "metadata": {
    "colab": {
     "base_uri": "https://localhost:8080/",
     "height": 34
    },
    "colab_type": "code",
    "id": "6DwAg7s0RWfM",
    "outputId": "9534ee68-836b-46ed-b78a-8990f87cdf6e"
   },
   "outputs": [
    {
     "name": "stdout",
     "output_type": "stream",
     "text": [
      "0.0\n"
     ]
    }
   ],
   "source": [
    "# '//=' Operator\n",
    "a//=b\n",
    "print(a)"
   ]
  },
  {
   "cell_type": "code",
   "execution_count": 42,
   "metadata": {
    "colab": {
     "base_uri": "https://localhost:8080/",
     "height": 34
    },
    "colab_type": "code",
    "id": "2pQeDOYjRezI",
    "outputId": "416bf597-8eeb-4812-cce1-cde4aef0a953"
   },
   "outputs": [
    {
     "name": "stdout",
     "output_type": "stream",
     "text": [
      "0.0\n"
     ]
    }
   ],
   "source": [
    "# \"**=\"\n",
    "a**=b\n",
    "print(a)"
   ]
  },
  {
   "cell_type": "markdown",
   "metadata": {
    "colab_type": "text",
    "id": "biueDFTiR3kS"
   },
   "source": [
    "# 3. Comparison Operators:\n",
    "\n",
    "---\n",
    "\n",
    "Comparison operators are used to compare two values:"
   ]
  },
  {
   "cell_type": "code",
   "execution_count": null,
   "metadata": {
    "colab": {},
    "colab_type": "code",
    "id": "4wO2RAxIR-xw"
   },
   "outputs": [],
   "source": [
    "# Declare Variable\n",
    "a = 30\n",
    "b = 10"
   ]
  },
  {
   "cell_type": "code",
   "execution_count": 46,
   "metadata": {
    "colab": {
     "base_uri": "https://localhost:8080/",
     "height": 34
    },
    "colab_type": "code",
    "id": "DzJApDnDSHQf",
    "outputId": "48a32571-4cdf-448a-84ce-f402b03f915a"
   },
   "outputs": [
    {
     "name": "stdout",
     "output_type": "stream",
     "text": [
      "False\n"
     ]
    }
   ],
   "source": [
    "# Equal (==) Operator\n",
    "print(a==b)"
   ]
  },
  {
   "cell_type": "code",
   "execution_count": 47,
   "metadata": {
    "colab": {
     "base_uri": "https://localhost:8080/",
     "height": 34
    },
    "colab_type": "code",
    "id": "kTFyzkjUSW3t",
    "outputId": "031e131a-2618-4b73-e5be-180a5d9a2f53"
   },
   "outputs": [
    {
     "name": "stdout",
     "output_type": "stream",
     "text": [
      "True\n"
     ]
    }
   ],
   "source": [
    "# Not equal (!=) Operator\n",
    "print(a!=b)"
   ]
  },
  {
   "cell_type": "code",
   "execution_count": 49,
   "metadata": {
    "colab": {
     "base_uri": "https://localhost:8080/",
     "height": 34
    },
    "colab_type": "code",
    "id": "Arqk5tpqSfz1",
    "outputId": "9e83c4cd-e32c-4798-99c2-e7763cac0d2a"
   },
   "outputs": [
    {
     "name": "stdout",
     "output_type": "stream",
     "text": [
      "True\n"
     ]
    }
   ],
   "source": [
    "# Greater than (>) Operator\n",
    "print(a>b)"
   ]
  },
  {
   "cell_type": "code",
   "execution_count": 50,
   "metadata": {
    "colab": {
     "base_uri": "https://localhost:8080/",
     "height": 34
    },
    "colab_type": "code",
    "id": "TjO83sJcSn7q",
    "outputId": "964066da-6776-403d-9006-993d8f61b4f8"
   },
   "outputs": [
    {
     "name": "stdout",
     "output_type": "stream",
     "text": [
      "False\n"
     ]
    }
   ],
   "source": [
    "# Less than (<) Operator\n",
    "print(a<b)"
   ]
  },
  {
   "cell_type": "code",
   "execution_count": 51,
   "metadata": {
    "colab": {
     "base_uri": "https://localhost:8080/",
     "height": 34
    },
    "colab_type": "code",
    "id": "kx0qUZTVS06F",
    "outputId": "bd24f8e2-114a-4553-a098-54555282fc45"
   },
   "outputs": [
    {
     "name": "stdout",
     "output_type": "stream",
     "text": [
      "True\n"
     ]
    }
   ],
   "source": [
    "# Greater than or equal to (>=) Operator\n",
    "print(a>=b)"
   ]
  },
  {
   "cell_type": "code",
   "execution_count": 52,
   "metadata": {
    "colab": {
     "base_uri": "https://localhost:8080/",
     "height": 34
    },
    "colab_type": "code",
    "id": "p4ftt88vS9MF",
    "outputId": "438e6941-e693-4185-ba82-9ff4c2454513"
   },
   "outputs": [
    {
     "name": "stdout",
     "output_type": "stream",
     "text": [
      "False\n"
     ]
    }
   ],
   "source": [
    "# Less than or equal to (<=) Operator\n",
    "print(a<=b)"
   ]
  },
  {
   "cell_type": "markdown",
   "metadata": {
    "colab_type": "text",
    "id": "wsIpPt3nTMP0"
   },
   "source": [
    "# 4. Logical Operators:\n",
    "\n",
    "---\n",
    "\n",
    "Logical operators are used to combine conditional statements:\n"
   ]
  },
  {
   "cell_type": "code",
   "execution_count": null,
   "metadata": {
    "colab": {},
    "colab_type": "code",
    "id": "XFXsd20hTcwP"
   },
   "outputs": [],
   "source": [
    "# Declare variables\n",
    "a=10\n",
    "b=50"
   ]
  },
  {
   "cell_type": "code",
   "execution_count": 62,
   "metadata": {
    "colab": {
     "base_uri": "https://localhost:8080/",
     "height": 51
    },
    "colab_type": "code",
    "id": "glMCYXPCTCnx",
    "outputId": "576169a2-dccb-498b-e787-5c15f91b8b21"
   },
   "outputs": [
    {
     "name": "stdout",
     "output_type": "stream",
     "text": [
      "50\n",
      "False\n"
     ]
    }
   ],
   "source": [
    "# 'and' Operator : Returns True if both statements are true\n",
    "print(a and b)\n",
    "print(a < 5 and  b < 10)"
   ]
  },
  {
   "cell_type": "code",
   "execution_count": 63,
   "metadata": {
    "colab": {
     "base_uri": "https://localhost:8080/",
     "height": 51
    },
    "colab_type": "code",
    "id": "JEhvdOCfTimp",
    "outputId": "18def955-f536-40b7-f081-900d6b26af81"
   },
   "outputs": [
    {
     "name": "stdout",
     "output_type": "stream",
     "text": [
      "10\n",
      "False\n"
     ]
    }
   ],
   "source": [
    "# 'or' Operator : Returns True if one of the statements is true\n",
    "print(a or b)\n",
    "print(a < 5 or b < 4)"
   ]
  },
  {
   "cell_type": "code",
   "execution_count": 64,
   "metadata": {
    "colab": {
     "base_uri": "https://localhost:8080/",
     "height": 34
    },
    "colab_type": "code",
    "id": "5_PkPeiUTk05",
    "outputId": "3feae1d1-7f88-430f-dbf8-5ae4a37c4ee1"
   },
   "outputs": [
    {
     "name": "stdout",
     "output_type": "stream",
     "text": [
      "True\n"
     ]
    }
   ],
   "source": [
    "# 'not' Operator: Reverse the result, returns False if the result is true\n",
    "print(not(a < 5 and b < 10))"
   ]
  },
  {
   "cell_type": "markdown",
   "metadata": {
    "colab_type": "text",
    "id": "qffvtMMHWJ_f"
   },
   "source": [
    "# 5. Bitwise operators\n",
    "\n",
    "---\n",
    "\n",
    "\n",
    "Bitwise operators are used to compare (binary) numbers:"
   ]
  },
  {
   "cell_type": "code",
   "execution_count": null,
   "metadata": {
    "colab": {},
    "colab_type": "code",
    "id": "h0IwnWgaWGbi"
   },
   "outputs": [],
   "source": [
    "# Declare variable\n",
    "a=10\n",
    "b=35"
   ]
  },
  {
   "cell_type": "code",
   "execution_count": 67,
   "metadata": {
    "colab": {
     "base_uri": "https://localhost:8080/",
     "height": 34
    },
    "colab_type": "code",
    "id": "8Ik40oO0bdlt",
    "outputId": "c8f45ea6-bea7-4200-9aef-63b96f59dfaf"
   },
   "outputs": [
    {
     "name": "stdout",
     "output_type": "stream",
     "text": [
      "2\n"
     ]
    }
   ],
   "source": [
    "# 'AND' (&) Operator : Sets each bit to 1 if both bits are 1\n",
    "print(a&b)"
   ]
  },
  {
   "cell_type": "code",
   "execution_count": 68,
   "metadata": {
    "colab": {
     "base_uri": "https://localhost:8080/",
     "height": 34
    },
    "colab_type": "code",
    "id": "_pWam37-bdis",
    "outputId": "3f2c2764-47f5-4637-a6cc-ee482d6ebb5e"
   },
   "outputs": [
    {
     "name": "stdout",
     "output_type": "stream",
     "text": [
      "43\n"
     ]
    }
   ],
   "source": [
    "# 'OR' (|) Operator: Sets each bit to 1 if one of two bits is 1\n",
    "print(a|b)"
   ]
  },
  {
   "cell_type": "code",
   "execution_count": 69,
   "metadata": {
    "colab": {
     "base_uri": "https://localhost:8080/",
     "height": 34
    },
    "colab_type": "code",
    "id": "FTzZVbX4bde8",
    "outputId": "32aabf04-585c-4035-a58d-a49711a33410"
   },
   "outputs": [
    {
     "name": "stdout",
     "output_type": "stream",
     "text": [
      "41\n"
     ]
    }
   ],
   "source": [
    "# 'XOR' (^) Operator: Sets each bit to 1 if only one of two bits is 1\n",
    "print(a^b)"
   ]
  },
  {
   "cell_type": "code",
   "execution_count": 70,
   "metadata": {
    "colab": {
     "base_uri": "https://localhost:8080/",
     "height": 34
    },
    "colab_type": "code",
    "id": "mNv8MsynbdbR",
    "outputId": "0ee91f41-385f-44c9-f42f-fdfac6f31665"
   },
   "outputs": [
    {
     "name": "stdout",
     "output_type": "stream",
     "text": [
      "-11\n"
     ]
    }
   ],
   "source": [
    "# 'NOT' (~) Operator: Inverts all the bits\n",
    "print(~a)"
   ]
  },
  {
   "cell_type": "code",
   "execution_count": 71,
   "metadata": {
    "colab": {
     "base_uri": "https://localhost:8080/",
     "height": 34
    },
    "colab_type": "code",
    "id": "ceuzWuYZbdX_",
    "outputId": "a5240d85-dd8e-40e7-8f6f-755213fa98a2"
   },
   "outputs": [
    {
     "name": "stdout",
     "output_type": "stream",
     "text": [
      "40\n"
     ]
    }
   ],
   "source": [
    "# 'Zero fill left shift' (<<): Shift left by pushing zeros in from the right and let the leftmost bits fall off\n",
    "print(a<<2)"
   ]
  },
  {
   "cell_type": "code",
   "execution_count": 72,
   "metadata": {
    "colab": {
     "base_uri": "https://localhost:8080/",
     "height": 34
    },
    "colab_type": "code",
    "id": "GnKYjXakbkvP",
    "outputId": "1ef84dae-3e48-45ab-8d9c-898f33056a66"
   },
   "outputs": [
    {
     "name": "stdout",
     "output_type": "stream",
     "text": [
      "0\n"
     ]
    }
   ],
   "source": [
    "# 'Signed right shift' (>>) : Shift right by pushing copies of the leftmost bit in from the left, and let the rightmost bits fall off\n",
    "print(a>>b)"
   ]
  },
  {
   "cell_type": "markdown",
   "metadata": {
    "colab_type": "text",
    "id": "IFDqBkHEVOqK"
   },
   "source": [
    "# 6. Identity Operators\n",
    "\n",
    "---\n",
    "Identity operators are used to compare the objects, not if they are equal, but if they are actually the same object, with the same memory location:"
   ]
  },
  {
   "cell_type": "code",
   "execution_count": 73,
   "metadata": {
    "colab": {
     "base_uri": "https://localhost:8080/",
     "height": 34
    },
    "colab_type": "code",
    "id": "GzJmbGebTlNp",
    "outputId": "617f4f25-e0bb-431b-f946-5c11171772c0"
   },
   "outputs": [
    {
     "name": "stdout",
     "output_type": "stream",
     "text": [
      "True\n"
     ]
    }
   ],
   "source": [
    "# 'is' Operator : Returns true if both variables are the same object\n",
    "#Identity Operators\n",
    "\n",
    "a=[1,3,5,7,'Python']\n",
    "a=b\n",
    "print(b is a)"
   ]
  },
  {
   "cell_type": "code",
   "execution_count": 74,
   "metadata": {
    "colab": {
     "base_uri": "https://localhost:8080/",
     "height": 34
    },
    "colab_type": "code",
    "id": "_irfm75mcfY4",
    "outputId": "c2cd8fbf-fe6e-43f2-bd3c-199a859cc74d"
   },
   "outputs": [
    {
     "name": "stdout",
     "output_type": "stream",
     "text": [
      "False\n"
     ]
    }
   ],
   "source": [
    "# 'is not' Operator: Returns true if both variables are not the same object\n",
    "print(a is not b)"
   ]
  },
  {
   "cell_type": "markdown",
   "metadata": {
    "colab_type": "text",
    "id": "4oQ4H7XNcnze"
   },
   "source": [
    "# 7. Membership Operators\n",
    "\n",
    "---\n",
    "\n",
    "Membership operators are used to test if a sequence is presented in an object:"
   ]
  },
  {
   "cell_type": "code",
   "execution_count": 77,
   "metadata": {
    "colab": {
     "base_uri": "https://localhost:8080/",
     "height": 34
    },
    "colab_type": "code",
    "id": "0Tf2_ezacluy",
    "outputId": "2cc6c4f0-b0c0-4440-a546-8fe85e1a75a6"
   },
   "outputs": [
    {
     "name": "stdout",
     "output_type": "stream",
     "text": [
      "False\n"
     ]
    }
   ],
   "source": [
    "# 'in' Operator: Returns True if a sequence with the specified value is present in the object\n",
    "list1=[1,10,100,\"Data Science\"]\n",
    "print(30 in list1)"
   ]
  },
  {
   "cell_type": "code",
   "execution_count": 78,
   "metadata": {
    "colab": {
     "base_uri": "https://localhost:8080/",
     "height": 34
    },
    "colab_type": "code",
    "id": "AM07m9ZncwnB",
    "outputId": "2423bcf4-f0b4-4f3b-fbc9-ff0385b9b8fb"
   },
   "outputs": [
    {
     "name": "stdout",
     "output_type": "stream",
     "text": [
      "True\n"
     ]
    }
   ],
   "source": [
    "# 'not in' Operator: Returns True if a sequence with the specified value is not present in the object\n",
    "print(20 not in list1)\n"
   ]
  },
  {
   "cell_type": "code",
   "execution_count": null,
   "metadata": {},
   "outputs": [],
   "source": [
    "print('hi')"
   ]
  },
  {
   "cell_type": "code",
   "execution_count": null,
   "metadata": {},
   "outputs": [],
   "source": []
  }
 ],
 "metadata": {
  "colab": {
   "name": "Python_Operators.ipynb",
   "provenance": [],
   "version": "0.3.2"
  },
  "kernelspec": {
   "display_name": "Python 3 (ipykernel)",
   "language": "python",
   "name": "python3"
  },
  "language_info": {
   "codemirror_mode": {
    "name": "ipython",
    "version": 3
   },
   "file_extension": ".py",
   "mimetype": "text/x-python",
   "name": "python",
   "nbconvert_exporter": "python",
   "pygments_lexer": "ipython3",
   "version": "3.11.7"
  }
 },
 "nbformat": 4,
 "nbformat_minor": 4
}
